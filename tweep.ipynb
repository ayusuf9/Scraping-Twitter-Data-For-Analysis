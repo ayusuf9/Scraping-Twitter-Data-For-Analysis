{
 "cells": [
  {
   "cell_type": "code",
   "execution_count": null,
   "id": "7fb4048b-eef6-47c9-9780-a38d507a91d2",
   "metadata": {},
   "outputs": [],
   "source": [
    "import csv\n",
    "import datetime\n",
    "import tweepy\n",
    "import os"
   ]
  },
  {
   "cell_type": "code",
   "execution_count": null,
   "id": "6fc5d9ca-8f3b-4e05-8e09-5fcb8b8ea1c1",
   "metadata": {},
   "outputs": [],
   "source": [
    "consumer_key = ''\n",
    "consumer_secret = ''\n",
    "access_token = ''\n",
    "access_token_secret = ''\n",
    "bearer_token = ''"
   ]
  },
  {
   "cell_type": "code",
   "execution_count": null,
   "id": "830d1bd8-b6fc-438d-9377-89579965d9dc",
   "metadata": {},
   "outputs": [],
   "source": [
    "client = tweepy.Client(\n",
    "    bearer_token=bearer_token,\n",
    "    consumer_key=consumer_key, \n",
    "    consumer_secret=consumer_secret,\n",
    "    access_token=access_token, \n",
    "    access_token_secret=access_token_secret\n",
    ")"
   ]
  },
  {
   "cell_type": "markdown",
   "id": "4ff0200c-e4e9-4bcf-98ea-a870dfa064b6",
   "metadata": {},
   "source": [
    "# Example 1: Fetching a few tweets from MTN's timeline"
   ]
  },
  {
   "cell_type": "code",
   "execution_count": null,
   "id": "02424fe6-3ad5-4016-83dc-55cff5e5ad24",
   "metadata": {},
   "outputs": [],
   "source": [
    "user = client.get_user(username=\"MTNNG\")"
   ]
  },
  {
   "cell_type": "code",
   "execution_count": null,
   "id": "83395d42-d8bb-48a9-b09c-ddfe7b19fa51",
   "metadata": {},
   "outputs": [],
   "source": [
    "user.data"
   ]
  },
  {
   "cell_type": "code",
   "execution_count": null,
   "id": "ef8d2bec-9a90-4f06-8601-a9332d51f3ee",
   "metadata": {},
   "outputs": [],
   "source": [
    "user_id = user.data.id"
   ]
  },
  {
   "cell_type": "code",
   "execution_count": null,
   "id": "6cd0c529-7f56-4867-8a7b-37f70c57c3a8",
   "metadata": {},
   "outputs": [],
   "source": [
    "user_id"
   ]
  },
  {
   "cell_type": "code",
   "execution_count": null,
   "id": "f3f3e687-6ab7-4827-aa91-7a5368f4009a",
   "metadata": {},
   "outputs": [],
   "source": [
    "tweets = client.get_users_tweets(\n",
    "    id=user_id,\n",
    "    max_results=5,\n",
    "    tweet_fields=['created_at','referenced_tweets', 'text']\n",
    ")"
   ]
  },
  {
   "cell_type": "code",
   "execution_count": null,
   "id": "03994de5-7d02-431c-971c-c1400c2982e4",
   "metadata": {},
   "outputs": [],
   "source": [
    "tweets.data[0].text"
   ]
  },
  {
   "cell_type": "code",
   "execution_count": null,
   "id": "e4578f22-d3c0-4eb6-b9ba-eab3dec09b59",
   "metadata": {},
   "outputs": [],
   "source": [
    "if tweets.data:\n",
    "    for tweet in tweets.data:\n",
    "        print(tweet.text)\n",
    "        print(\"____________________________\")"
   ]
  },
  {
   "cell_type": "code",
   "execution_count": null,
   "id": "0f59771a-fc2f-4b91-a7d8-7b47ef73acb1",
   "metadata": {},
   "outputs": [],
   "source": []
  },
  {
   "cell_type": "markdown",
   "id": "99038f38-013f-47aa-86c1-4ebe5c9d451d",
   "metadata": {},
   "source": [
    "# Full Function to use below.."
   ]
  },
  {
   "cell_type": "code",
   "execution_count": null,
   "id": "6fbfc145-a6a1-4a3b-9089-611a98be4302",
   "metadata": {},
   "outputs": [],
   "source": [
    "def get_user_tweets_v2(username, max_results=10):\n",
    "    try:\n",
    "        user = client.get_user(username=username)\n",
    "        if not user.data:\n",
    "            print(f\"User {username} not found\")\n",
    "            return\n",
    "            \n",
    "        user_id = user.data.id\n",
    "        \n",
    "        tweets = client.get_users_tweets(\n",
    "            id=user_id,\n",
    "            max_results=max_results,\n",
    "            tweet_fields=[['created_at','referenced_tweets', 'text']\n",
    "        )\n",
    "        \n",
    "        if not tweets.data:\n",
    "            print(f\"No tweets found for {username}\")\n",
    "            return\n",
    "            \n",
    "        for tweet in tweets.data:\n",
    "            created_at = tweet.created_at.strftime(\"%Y-%m-%d %H:%M:%S\") if tweet.created_at else \"Unknown date\"\n",
    "            print(f\"{created_at}: {tweet.text}\")\n",
    "            print(f\"Likes: {tweet.public_metrics['like_count']} | Retweets: {tweet.public_metrics['retweet_count']}\\n\")\n",
    "            \n",
    "    except Exception as e:\n",
    "        print(f\"Error fetching user tweets: {e}\")"
   ]
  },
  {
   "cell_type": "code",
   "execution_count": null,
   "id": "97b0b0fe-0550-4c90-8080-b1d4138a520a",
   "metadata": {},
   "outputs": [],
   "source": []
  }
 ],
 "metadata": {
  "kernelspec": {
   "display_name": "spotify_env",
   "language": "python",
   "name": "spotify_env"
  },
  "language_info": {
   "codemirror_mode": {
    "name": "ipython",
    "version": 3
   },
   "file_extension": ".py",
   "mimetype": "text/x-python",
   "name": "python",
   "nbconvert_exporter": "python",
   "pygments_lexer": "ipython3",
   "version": "3.10.14"
  }
 },
 "nbformat": 4,
 "nbformat_minor": 5
}
